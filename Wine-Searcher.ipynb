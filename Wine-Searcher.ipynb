{
 "cells": [
  {
   "cell_type": "code",
   "execution_count": 69,
   "id": "9a92b194",
   "metadata": {},
   "outputs": [],
   "source": [
    "import pandas as pd\n",
    "import requests\n",
    "import time\n",
    "from splinter import Browser\n",
    "from bs4 import BeautifulSoup\n",
    "from webdriver_manager.chrome import ChromeDriverManager"
   ]
  },
  {
   "cell_type": "code",
   "execution_count": 70,
   "id": "1f5ab27d",
   "metadata": {},
   "outputs": [],
   "source": [
    "# Set up Splinter\n",
    "executable_path = {'executable_path': ChromeDriverManager().install()}\n",
    "browser = Browser('chrome', **executable_path, headless=False)"
   ]
  },
  {
   "cell_type": "code",
   "execution_count": 73,
   "id": "0abd88ff",
   "metadata": {},
   "outputs": [],
   "source": [
    "   \n",
    "for page in range(1,2):\n",
    "    time.sleep(5)\n",
    "    # Visit the site to Scrape \n",
    "    url = 'https://www.wine-searcher.com/regions-oregon'\n",
    "    browser.visit(url)\n",
    "    html = browser.html\n",
    "    soup = BeautifulSoup(html, 'html.parser')\n",
    "\n",
    "    lists = soup.find_all('div', class_=\"mb-4\")\n",
    "\n",
    "for list in lists:\n",
    "    name = list.find('a', class_= \"superlative-list__name font-light-bold\")\n",
    "    grape = list.find('div', class_= \"text-md-center superlative-list-md-w-19 order-md-1 mb-1 mb-md-0\")\n",
    "    point = list.find('span', class_= \"badge badge-pill badge-rating\")\n",
    "    price = list.find('b', class_= \"font-light-bold\")\n"
   ]
  },
  {
   "cell_type": "code",
   "execution_count": 75,
   "id": "37decb65",
   "metadata": {},
   "outputs": [
    {
     "name": "stdout",
     "output_type": "stream",
     "text": [
      "<div class=\"row no-gutters mb-4\">\n",
      "<div class=\"col-12 col-md-5\">\n",
      "<div class=\"search-box search-box__default w-100\">\n",
      "<span class=\"spinner-border spinner-border-sm text-primary search-box__load-indicator\" role=\"status\"></span>\n",
      "<input aria-label=\"Shop or producer name\" autocomplete=\"off\" class=\"search-box__input\" data-auto-select=\"true\" data-limit=\"5\" data-search-category=\"biz\" data-typeahead=\"1\" maxlength=\"100\" name=\"q\" placeholder=\"Shop or producer name\" type=\"text\" value=\"\"/> <span aria-label=\"Search\" class=\"search-box__icon\" onclick=\"$(this).closest('form').submit(); return false;\" role=\"button\">\n",
      "<svg class=\"svgicon icon-search\"><use xlink:href=\"/svg/dist/all.e75eb9178e43a93b489c.final.svg#icon-search\"></use></svg> </span>\n",
      "<span aria-label=\"Clear search phrase\" class=\"search-box__clear d-none\" role=\"button\">\n",
      "<svg class=\"svgicon icon-clear\"><use xlink:href=\"/svg/dist/all.e75eb9178e43a93b489c.final.svg#icon-clear\"></use></svg> </span>\n",
      "</div>\n",
      "</div>\n",
      "</div>\n"
     ]
    }
   ],
   "source": [
    "print(list)"
   ]
  },
  {
   "cell_type": "code",
   "execution_count": null,
   "id": "72ad7499",
   "metadata": {},
   "outputs": [],
   "source": []
  }
 ],
 "metadata": {
  "kernelspec": {
   "display_name": "Python 3 (ipykernel)",
   "language": "python",
   "name": "python3"
  },
  "language_info": {
   "codemirror_mode": {
    "name": "ipython",
    "version": 3
   },
   "file_extension": ".py",
   "mimetype": "text/x-python",
   "name": "python",
   "nbconvert_exporter": "python",
   "pygments_lexer": "ipython3",
   "version": "3.7.13"
  }
 },
 "nbformat": 4,
 "nbformat_minor": 5
}
