{
 "cells": [
  {
   "cell_type": "code",
   "execution_count": 1,
   "id": "a2c6549e",
   "metadata": {},
   "outputs": [],
   "source": [
    "import pandas as pd\n",
    "import requests\n",
    "from splinter import Browser\n",
    "from bs4 import BeautifulSoup as soup\n",
    "from webdriver_manager.chrome import ChromeDriverManager"
   ]
  },
  {
   "cell_type": "code",
   "execution_count": 2,
   "id": "cd5d727e",
   "metadata": {},
   "outputs": [
    {
     "name": "stderr",
     "output_type": "stream",
     "text": [
      "[WDM] - Downloading: 100%|████████████████████████████████████████████████████████| 6.46M/6.46M [00:01<00:00, 6.36MB/s]\n"
     ]
    }
   ],
   "source": [
    "# Set up Splinter\n",
    "executable_path = {'executable_path': ChromeDriverManager().install()}\n",
    "browser = Browser('chrome', **executable_path, headless=False)"
   ]
  },
  {
   "cell_type": "code",
   "execution_count": 4,
   "id": "b6bdd473",
   "metadata": {},
   "outputs": [],
   "source": [
    "   \n",
    "for page in range(1,4):\n",
    "    time.sleep(5)\n",
    "    # Visit the site to Scrape \n",
    "    url = 'https://www.winemag.com/region/oregon/?s=Oregon&drink_type=wine&page='+str(page)+'&sort_by=pub_date_web&sort_dir=desc'\n",
    "    browser.visit(url)\n",
    "    html = browser.html\n",
    "    soup = BeautifulSoup(html, 'html.parser')\n",
    "\n",
    "    lists = soup.find_all('section', class_=\"wine-reviews\")\n",
    "\n",
    "\n",
    "    for list in lists:\n",
    "        title = list.find_all('h3', class_= \"title\")\n",
    "        location = list.find_all('span', class_= \"appellation\")\n",
    "        review = list.find_all('div', class_= \"excerpt\")\n",
    "        points = list.find_all('span', class_= \"rating\")\n",
    "        prices = list.find_all('span', class_= \"price\")\n",
    "    \n",
    "    "
   ]
  },
  {
   "cell_type": "code",
   "execution_count": 5,
   "id": "44ef4367",
   "metadata": {},
   "outputs": [],
   "source": [
    "html = browser.html\n",
    "soup = soup(html, 'html.parser')"
   ]
  },
  {
   "cell_type": "code",
   "execution_count": 6,
   "id": "d487610b",
   "metadata": {},
   "outputs": [],
   "source": [
    "lists = soup.find_all('body', class_=\"docs-gm\")\n",
    "\n",
    "for list in lists:\n",
    "    title = list.find_all('ta', class_= \"s2\")\n"
   ]
  },
  {
   "cell_type": "code",
   "execution_count": 7,
   "id": "18d285c5",
   "metadata": {},
   "outputs": [
    {
     "name": "stdout",
     "output_type": "stream",
     "text": [
      "<class 'list'>\n"
     ]
    }
   ],
   "source": []
  },
  {
   "cell_type": "code",
   "execution_count": null,
   "id": "276558ff",
   "metadata": {},
   "outputs": [],
   "source": []
  }
 ],
 "metadata": {
  "kernelspec": {
   "display_name": "Python 3 (ipykernel)",
   "language": "python",
   "name": "python3"
  },
  "language_info": {
   "codemirror_mode": {
    "name": "ipython",
    "version": 3
   },
   "file_extension": ".py",
   "mimetype": "text/x-python",
   "name": "python",
   "nbconvert_exporter": "python",
   "pygments_lexer": "ipython3",
   "version": "3.7.13"
  }
 },
 "nbformat": 4,
 "nbformat_minor": 5
}
