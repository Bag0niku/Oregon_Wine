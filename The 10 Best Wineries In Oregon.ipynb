{
 "cells": [
  {
   "cell_type": "code",
   "execution_count": 1,
   "id": "1f0978d9",
   "metadata": {},
   "outputs": [],
   "source": [
    "import pandas as pd\n",
    "import requests\n",
    "from splinter import Browser\n",
    "from bs4 import BeautifulSoup as soup\n",
    "from webdriver_manager.chrome import ChromeDriverManager"
   ]
  },
  {
   "cell_type": "code",
   "execution_count": 2,
   "id": "67ef8e84",
   "metadata": {},
   "outputs": [],
   "source": [
    "# Set up Splinter\n",
    "executable_path = {'executable_path': ChromeDriverManager().install()}\n",
    "browser = Browser('chrome', **executable_path, headless=False)"
   ]
  },
  {
   "cell_type": "code",
   "execution_count": 3,
   "id": "a02d2b23",
   "metadata": {},
   "outputs": [],
   "source": [
    "# Visit the sire to Scrape \n",
    "url = \"https://choicewineries.com/best-wineries-in-oregon/#:~:text=The%2010%20Best%20Wineries%20In%20Oregon%201%201.,Creek%20Vineyard%20CW%20Score%3A%2091.6%20...%20More%20items\"\n",
    "browser.visit(url)\n",
    "page = requests.get(url)"
   ]
  },
  {
   "cell_type": "code",
   "execution_count": 4,
   "id": "3ad26938",
   "metadata": {},
   "outputs": [],
   "source": [
    "html = browser.html\n",
    "soup = soup(html, 'html.parser')"
   ]
  },
  {
   "cell_type": "code",
   "execution_count": 13,
   "id": "ab3123b3",
   "metadata": {},
   "outputs": [
    {
     "ename": "SyntaxError",
     "evalue": "invalid syntax (3520468353.py, line 1)",
     "output_type": "error",
     "traceback": [
      "\u001b[1;36m  File \u001b[1;32m\"C:\\Users\\Zoeyx\\AppData\\Local\\Temp\\ipykernel_62536\\3520468353.py\"\u001b[1;36m, line \u001b[1;32m1\u001b[0m\n\u001b[1;33m    lists = soup.find_all('div', class_= \"wp-container-1 wp-block-column\" style=\"flex-basis:33.33%\")\u001b[0m\n\u001b[1;37m                                                                              ^\u001b[0m\n\u001b[1;31mSyntaxError\u001b[0m\u001b[1;31m:\u001b[0m invalid syntax\n"
     ]
    }
   ],
   "source": [
    "lists = soup.find_all('div', class_=\"entry-content\")\n",
    "\n",
    "for list in lists:\n",
    "    title = list.find_all('div', class_= \"wp-container-5 wp-block-column\")\n",
    "    location = list.find_all('span', class_= \"appellation\")\n",
    "    review = list.find_all('div', class_= \"excerpt\")\n",
    "    points = list.find_all('span', class_= \"rating\")\n",
    "    prices = list.find_all('span', class_= \"price\")"
   ]
  },
  {
   "cell_type": "code",
   "execution_count": 7,
   "id": "375ca205",
   "metadata": {},
   "outputs": [
    {
     "name": "stdout",
     "output_type": "stream",
     "text": [
      "[[], [<div class=\"wp-container-1 wp-block-column\" style=\"flex-basis:33.33%\">\n",
      "<figure class=\"wp-block-image size-full\"><noscript><img alt=\"best winery in Oregon award\" class=\"wp-image-1636\" height=\"832\" sizes=\"(max-width: 842px) 100vw, 842px\" src=\"https://choicewineries.com/wp-content/uploads/2021/09/best-wineries-in-oregon-1.png\" srcset=\"https://choicewineries.com/wp-content/uploads/2021/09/best-wineries-in-oregon-1.png 842w, https://choicewineries.com/wp-content/uploads/2021/09/best-wineries-in-oregon-1-300x296.png 300w, https://choicewineries.com/wp-content/uploads/2021/09/best-wineries-in-oregon-1-768x759.png 768w\" width=\"842\"/></noscript><img alt=\"best winery in Oregon award\" class=\"wp-image-1636 lazyloaded\" data-sizes=\"(max-width: 842px) 100vw, 842px\" data-src=\"https://choicewineries.com/wp-content/uploads/2021/09/best-wineries-in-oregon-1.png\" data-srcset=\"https://choicewineries.com/wp-content/uploads/2021/09/best-wineries-in-oregon-1.png 842w, https://choicewineries.com/wp-content/uploads/2021/09/best-wineries-in-oregon-1-300x296.png 300w, https://choicewineries.com/wp-content/uploads/2021/09/best-wineries-in-oregon-1-768x759.png 768w\" height=\"832\" sizes=\"(max-width: 842px) 100vw, 842px\" src=\"https://choicewineries.com/wp-content/uploads/2021/09/best-wineries-in-oregon-1.png\" srcset=\"https://choicewineries.com/wp-content/uploads/2021/09/best-wineries-in-oregon-1.png 842w, https://choicewineries.com/wp-content/uploads/2021/09/best-wineries-in-oregon-1-300x296.png 300w, https://choicewineries.com/wp-content/uploads/2021/09/best-wineries-in-oregon-1-768x759.png 768w\" width=\"842\"/></figure>\n",
      "</div>]]\n"
     ]
    }
   ],
   "source": []
  },
  {
   "cell_type": "code",
   "execution_count": 8,
   "id": "da64d2f9",
   "metadata": {},
   "outputs": [
    {
     "data": {
      "text/html": [
       "<div>\n",
       "<style scoped>\n",
       "    .dataframe tbody tr th:only-of-type {\n",
       "        vertical-align: middle;\n",
       "    }\n",
       "\n",
       "    .dataframe tbody tr th {\n",
       "        vertical-align: top;\n",
       "    }\n",
       "\n",
       "    .dataframe thead th {\n",
       "        text-align: right;\n",
       "    }\n",
       "</style>\n",
       "<table border=\"1\" class=\"dataframe\">\n",
       "  <thead>\n",
       "    <tr style=\"text-align: right;\">\n",
       "      <th></th>\n",
       "      <th>0</th>\n",
       "    </tr>\n",
       "  </thead>\n",
       "  <tbody>\n",
       "    <tr>\n",
       "      <th>0</th>\n",
       "      <td>None</td>\n",
       "    </tr>\n",
       "    <tr>\n",
       "      <th>1</th>\n",
       "      <td>[\\n, [[&lt;img alt=\"best winery in Oregon award\" ...</td>\n",
       "    </tr>\n",
       "  </tbody>\n",
       "</table>\n",
       "</div>"
      ],
      "text/plain": [
       "                                                   0\n",
       "0                                               None\n",
       "1  [\\n, [[<img alt=\"best winery in Oregon award\" ..."
      ]
     },
     "execution_count": 8,
     "metadata": {},
     "output_type": "execute_result"
    }
   ],
   "source": [
    "\n"
   ]
  },
  {
   "cell_type": "code",
   "execution_count": null,
   "id": "ba26c9a0",
   "metadata": {},
   "outputs": [],
   "source": []
  }
 ],
 "metadata": {
  "kernelspec": {
   "display_name": "Python 3 (ipykernel)",
   "language": "python",
   "name": "python3"
  },
  "language_info": {
   "codemirror_mode": {
    "name": "ipython",
    "version": 3
   },
   "file_extension": ".py",
   "mimetype": "text/x-python",
   "name": "python",
   "nbconvert_exporter": "python",
   "pygments_lexer": "ipython3",
   "version": "3.7.13"
  }
 },
 "nbformat": 4,
 "nbformat_minor": 5
}
