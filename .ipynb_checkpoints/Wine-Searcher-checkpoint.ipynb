{
 "cells": [
  {
   "cell_type": "code",
   "execution_count": 59,
   "id": "9a92b194",
   "metadata": {},
   "outputs": [],
   "source": [
    "import pandas as pd\n",
    "import requests\n",
    "import time\n",
    "from splinter import Browser\n",
    "from bs4 import BeautifulSoup\n",
    "from webdriver_manager.chrome import ChromeDriverManager"
   ]
  },
  {
   "cell_type": "code",
   "execution_count": 60,
   "id": "1f5ab27d",
   "metadata": {},
   "outputs": [],
   "source": [
    "# Set up Splinter\n",
    "executable_path = {'executable_path': ChromeDriverManager().install()}\n",
    "browser = Browser('chrome', **executable_path, headless=False)"
   ]
  },
  {
   "cell_type": "code",
   "execution_count": null,
   "id": "0abd88ff",
   "metadata": {},
   "outputs": [],
   "source": [
    "   \n",
    "for page in range(1,10):\n",
    "    time.sleep(5)\n",
    "    # Visit the site to Scrape \n",
    "    url = 'https://www.wine-searcher.com/regions-oregon'\n",
    "    browser.visit(url)\n",
    "    html = browser.html\n",
    "    soup = BeautifulSoup(html, 'html.parser')\n",
    "\n",
    "    lists = soup.find_all('div', class_=\"mb-4\")\n",
    "\n",
    "\n",
    "for list in lists:\n",
    "    name = list.find('a', class_= \"superlative-list__name font-light-bold\")\n",
    "    grapes = list.find('div', class_= \"text-md-center superlative-list-md-w-19 order-md-1 mb-1 mb-md-0\")\n",
    "    points = list.find('span', class_= \"badge badge-pill badge-rating\")\n",
    "    prices = list.find('b', class_= \"font-light-bold\")"
   ]
  },
  {
   "cell_type": "code",
   "execution_count": null,
   "id": "37decb65",
   "metadata": {},
   "outputs": [],
   "source": [
    "print(name)"
   ]
  },
  {
   "cell_type": "code",
   "execution_count": null,
   "id": "bb29eac0",
   "metadata": {},
   "outputs": [],
   "source": []
  }
 ],
 "metadata": {
  "kernelspec": {
   "display_name": "Python 3 (ipykernel)",
   "language": "python",
   "name": "python3"
  },
  "language_info": {
   "codemirror_mode": {
    "name": "ipython",
    "version": 3
   },
   "file_extension": ".py",
   "mimetype": "text/x-python",
   "name": "python",
   "nbconvert_exporter": "python",
   "pygments_lexer": "ipython3",
   "version": "3.7.13"
  }
 },
 "nbformat": 4,
 "nbformat_minor": 5
}
